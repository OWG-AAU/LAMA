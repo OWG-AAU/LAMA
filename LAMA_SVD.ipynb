{
 "cells": [
  {
   "cell_type": "code",
   "execution_count": 1,
   "id": "9ee331cb",
   "metadata": {},
   "outputs": [],
   "source": [
    "import numpy as np\n",
    "import matplotlib.pyplot as plt"
   ]
  },
  {
   "cell_type": "code",
   "execution_count": 2,
   "id": "dd516560",
   "metadata": {},
   "outputs": [],
   "source": [
    "from PIL import Image\n",
    "import urllib.request"
   ]
  },
  {
   "cell_type": "markdown",
   "id": "a6d58dd5",
   "metadata": {},
   "source": [
    "We use a greyscale image from wikimedia"
   ]
  },
  {
   "cell_type": "code",
   "execution_count": 3,
   "id": "d3ef92c9",
   "metadata": {},
   "outputs": [],
   "source": [
    "urllib.request.urlretrieve('https://upload.wikimedia.org/wikipedia/commons/2/2d/Alwac_III_computer%2C_1959.jpg',\"Computer.jpg\");\n",
    "img=Image.open(\"Computer.jpg\")\n",
    "img.show()"
   ]
  },
  {
   "cell_type": "markdown",
   "id": "9b36d48b",
   "metadata": {},
   "source": [
    "We transform it into an array and display its size. The third index is for the color channels, red, green and blue. But since we handle a greyscale image all three channels are identical."
   ]
  },
  {
   "cell_type": "code",
   "execution_count": 4,
   "id": "e47cc07c",
   "metadata": {},
   "outputs": [
    {
     "name": "stdout",
     "output_type": "stream",
     "text": [
      "(470, 650, 3)\n"
     ]
    }
   ],
   "source": [
    "data = np.asarray(img)\n",
    "print(data.shape)"
   ]
  },
  {
   "cell_type": "markdown",
   "id": "f38f56ba",
   "metadata": {},
   "source": [
    "We only work with the first layer."
   ]
  },
  {
   "cell_type": "code",
   "execution_count": 5,
   "id": "e791b56c",
   "metadata": {},
   "outputs": [],
   "source": [
    "R=data[:,:,0]"
   ]
  },
  {
   "cell_type": "markdown",
   "id": "ac06f548",
   "metadata": {},
   "source": [
    "We calculate the SVD"
   ]
  },
  {
   "cell_type": "code",
   "execution_count": 6,
   "id": "bee0504a",
   "metadata": {},
   "outputs": [],
   "source": [
    "U, Sigma, V= np.linalg.svd(R)"
   ]
  },
  {
   "cell_type": "markdown",
   "id": "5e623f17",
   "metadata": {},
   "source": [
    "Note that numpy stores the diagonal matrix $\\Sigma$ as a single row"
   ]
  },
  {
   "cell_type": "code",
   "execution_count": 7,
   "id": "41d9e7f1",
   "metadata": {},
   "outputs": [
    {
     "name": "stdout",
     "output_type": "stream",
     "text": [
      "(470, 470)\n",
      "(470,)\n",
      "(650, 650)\n"
     ]
    }
   ],
   "source": [
    "print(U.shape)\n",
    "print(Sigma.shape)\n",
    "print(V.shape)"
   ]
  },
  {
   "cell_type": "markdown",
   "id": "ccae702a",
   "metadata": {},
   "source": [
    "We define a variable $d$ that determines how many of the singular values, and hence columns of $U$ and rows of $V$ we want to use for the compressed image.\n",
    "We display the original red channel and afterwards successively better approximations of it."
   ]
  },
  {
   "cell_type": "code",
   "execution_count": 8,
   "id": "f85fe6c0",
   "metadata": {},
   "outputs": [],
   "source": [
    "Image.fromarray(R).show()\n",
    "for d in [1,3,5,10,50,75,100]:\n",
    "    compimg = np.matrix(U[:, :d]) * np.diag(Sigma[:d]) * np.matrix(V[:d, :])\n",
    "    compRed=Image.fromarray(compimg)\n",
    "    compRed.show()\n"
   ]
  },
  {
   "cell_type": "markdown",
   "id": "6810a939",
   "metadata": {},
   "source": [
    "We plot the first 20 singular values\n",
    "\n"
   ]
  },
  {
   "cell_type": "code",
   "execution_count": 9,
   "id": "8282b82c",
   "metadata": {},
   "outputs": [
    {
     "data": {
      "image/png": "[encoded data removed]",
      "text/plain": [
       "<Figure size 432x288 with 1 Axes>"
      ]
     },
     "metadata": {
      "needs_background": "light"
     },
     "output_type": "display_data"
    }
   ],
   "source": [
    "plt.plot(range(20),Sigma[:20], color='red')\n",
    "plt.show()"
   ]
  },
  {
   "cell_type": "markdown",
   "id": "38670b41",
   "metadata": {},
   "source": [
    "The tone of a single pixel is defined by a number between 0 and 255, or 8 bits = 1 byte. We can calculate the storage requirements for the original image and the approximations for different values of $d$."
   ]
  },
  {
   "cell_type": "code",
   "execution_count": 10,
   "id": "1d88188b",
   "metadata": {},
   "outputs": [
    {
     "data": {
      "text/plain": [
       "305500"
      ]
     },
     "execution_count": 10,
     "metadata": {},
     "output_type": "execute_result"
    }
   ],
   "source": [
    "R.size*R.itemsize"
   ]
  },
  {
   "cell_type": "code",
   "execution_count": 11,
   "id": "f62e2a4e",
   "metadata": {},
   "outputs": [
    {
     "name": "stdout",
     "output_type": "stream",
     "text": [
      "1 8961\n",
      "3 26883\n",
      "5 44805\n",
      "10 89610\n",
      "50 448050\n",
      "75 672075\n",
      "100 896100\n"
     ]
    }
   ],
   "source": [
    "for d in [1,3,5,10,50,75,100]:\n",
    "    print(d, U[:d,:].size*U.itemsize+Sigma[:d].size+ V[:,:d].size*V.itemsize)"
   ]
  },
  {
   "cell_type": "markdown",
   "id": "8e035692",
   "metadata": {},
   "source": [
    "We see that the 'compression' via the SVD actually needs more space for reasonable image quality.\n",
    "Can you explain why?"
   ]
  },
  {
   "cell_type": "markdown",
   "id": "1ff8fd5e",
   "metadata": {},
   "source": [
    "We will look at a different example that compares more favorable"
   ]
  },
  {
   "cell_type": "code",
   "execution_count": 12,
   "id": "19df6c00",
   "metadata": {},
   "outputs": [
    {
     "name": "stdout",
     "output_type": "stream",
     "text": [
      "(1804, 1365)\n"
     ]
    }
   ],
   "source": [
    "urllib.request.urlretrieve('https://upload.wikimedia.org/wikipedia/commons/b/bc/The_Moon_Luc_Viatour.jpg',\"Moon.jpg\");\n",
    "img=Image.open(\"Moon.jpg\")\n",
    "img.show()\n",
    "moon = np.asarray(img)\n",
    "print(moon.shape)\n",
    "U, Sigma, V= np.linalg.svd(moon)"
   ]
  },
  {
   "cell_type": "code",
   "execution_count": 13,
   "id": "df5d3899",
   "metadata": {},
   "outputs": [],
   "source": [
    "Image.fromarray(moon).show()\n",
    "for d in [1,3,5,10,50,75,100]:\n",
    "    compimg = np.matrix(U[:, :d]) * np.diag(Sigma[:d]) * np.matrix(V[:d, :])\n",
    "    compRed=Image.fromarray(compimg)\n",
    "    compRed.show()"
   ]
  },
  {
   "cell_type": "code",
   "execution_count": 14,
   "id": "edb0478f",
   "metadata": {},
   "outputs": [
    {
     "name": "stdout",
     "output_type": "stream",
     "text": [
      "2462460\n",
      "1 25353\n",
      "3 76059\n",
      "5 126765\n",
      "10 253530\n",
      "50 1267650\n",
      "75 1901475\n",
      "100 2535300\n"
     ]
    }
   ],
   "source": [
    "print(moon.size*moon.itemsize)\n",
    "for d in [1,3,5,10,50,75,100]:\n",
    "    print(d, U[:d,:].size*U.itemsize+Sigma[:d].size+ V[:,:d].size*V.itemsize)"
   ]
  },
  {
   "cell_type": "markdown",
   "id": "7f448361",
   "metadata": {},
   "source": [
    "Why is the compression working better here?"
   ]
  },
  {
   "cell_type": "code",
   "execution_count": null,
   "id": "9cf33e74",
   "metadata": {},
   "outputs": [],
   "source": []
  }
 ],
 "metadata": {
  "kernelspec": {
   "display_name": "Python 3 (ipykernel)",
   "language": "python",
   "name": "python3"
  },
  "language_info": {
   "codemirror_mode": {
    "name": "ipython",
    "version": 3
   },
   "file_extension": ".py",
   "mimetype": "text/x-python",
   "name": "python",
   "nbconvert_exporter": "python",
   "pygments_lexer": "ipython3",
   "version": "3.8.2"
  }
 },
 "nbformat": 4,
 "nbformat_minor": 5
}
